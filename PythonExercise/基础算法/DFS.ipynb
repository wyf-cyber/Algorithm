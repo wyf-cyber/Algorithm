{
 "cells": [
  {
   "cell_type": "markdown",
   "metadata": {},
   "source": [
    "## 例题：飞机降落\n",
    "> 题目链接：[飞机降落（蓝桥杯）](https://www.lanqiao.cn/problems/3511/learning/?page=36&first_category_id=1&second_category_id=3)"
   ]
  },
  {
   "cell_type": "code",
   "execution_count": null,
   "metadata": {},
   "outputs": [],
   "source": [
    "# numbers:records the number of settled planes \n",
    "# pre:the time that former plane settled\n",
    "def dfs(numbers,pre):\n",
    "    global flag\n",
    "    global n\n",
    "    if flag:\n",
    "        # 如果已经找到正解，直接停止以免覆盖正解\n",
    "        return \n",
    "    if numbers == n:\n",
    "        # 已经完成[0:n-1]所有飞机的排列\n",
    "        flag = True\n",
    "        return \n",
    "    for i in range(n):\n",
    "        if visited[i]:\n",
    "            continue\n",
    "        # 对没有安排的航班\n",
    "        if pre > t[i] + d[i]:\n",
    "            # 该航班没有降落且时间不足\n",
    "            flag = False\n",
    "            return\n",
    "        visited[i] = True\n",
    "        dfs(numbers+1,max(pre,t[i])+l[i])\n",
    "        # 记得回溯\n",
    "        visited[i] = False\n",
    "\n",
    "Zu = int(input())\n",
    "for _ in range(Zu):\n",
    "    # 一组测试用例\n",
    "    flag = False\n",
    "    n = int(input())\n",
    "    t = [0]*n\n",
    "    d = [0]*n\n",
    "    l = [0]*n\n",
    "    visited = [False]*n\n",
    "    for i in range(n):\n",
    "        t[i],d[i],l[i] = map(int, input().split())\n",
    "    # judge\n",
    "    dfs(0,0)\n",
    "    if flag:\n",
    "        print('YES')\n",
    "    else:\n",
    "        print('NO')"
   ]
  }
 ],
 "metadata": {
  "language_info": {
   "name": "python"
  }
 },
 "nbformat": 4,
 "nbformat_minor": 2
}
