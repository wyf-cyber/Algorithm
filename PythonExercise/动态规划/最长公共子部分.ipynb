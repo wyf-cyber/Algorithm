{
 "cells": [
  {
   "cell_type": "markdown",
   "metadata": {},
   "source": [
    "> 动态规划（记忆化搜索）：\n",
    "> \n",
    "> 将给定问题划分成若干子问题，直到子问题可以被直接解决。然后把子问题的答保存下来以免重复计算，然后根据子问题反推出原问题解的方法"
   ]
  }
 ],
 "metadata": {
  "language_info": {
   "name": "python"
  }
 },
 "nbformat": 4,
 "nbformat_minor": 2
}
