{
 "cells": [
  {
   "cell_type": "markdown",
   "metadata": {},
   "source": [
    "# 数位dp\n",
    "**状态：** 在区间[i,j]这个范围内，满足某种约束的数字的数量、总和、平方\\\n",
    "**模版：** 采用前缀和思想，将求解“这个区间内的满足约束的数的数量”，转化为“满足约束的数量 - 区间满足约束的数量”"
   ]
  },
  {
   "cell_type": "markdown",
   "metadata": {},
   "source": [
    "## 例题：子串简写\n",
    "> 题目链接:[子串简写（蓝桥杯）](https://www.lanqiao.cn/problems/3514/learning/?page=36&first_category_id=1&second_category_id=3)"
   ]
  },
  {
   "cell_type": "code",
   "execution_count": null,
   "metadata": {},
   "outputs": [],
   "source": [
    "# 暴力算法\n",
    "k = int(input())\n",
    "s,c1,c2 = input().split()\n",
    "n = len(s)\n",
    "# 记录s中字符c1，c2出现的下标\n",
    "id1 = []\n",
    "id2 = []\n",
    "for i in range(n):\n",
    "    if s[i] == c1:\n",
    "        id1.append(i)\n",
    "    elif s[i] == c2:\n",
    "        id2.append(i)\n",
    "# 处理下标\n",
    "count = 0\n",
    "for i in id1:\n",
    "    for j in id2:\n",
    "        if j-i >= k-1:\n",
    "            count += 1\n",
    "print(count)"
   ]
  },
  {
   "cell_type": "code",
   "execution_count": null,
   "metadata": {},
   "outputs": [],
   "source": [
    "# 数位dp\n",
    "# pre[i]存储区间[i,n-1]内字符c2的个数\n",
    "k = int(input())\n",
    "s,c1,c2 = input().split()\n",
    "n = len(s)\n",
    "pre = [0]*(n+1)\n",
    "ans = 0\n",
    "for i in range(n-1,-1,-1):\n",
    "    pre[i] = pre[i+1]\n",
    "    if s[i] == c2:\n",
    "        pre[i] += 1\n",
    "    elif s[i] == c1 and i+k <= n:\n",
    "        ans += pre[i+k-1]\n",
    "print(ans)"
   ]
  },
  {
   "cell_type": "markdown",
   "metadata": {},
   "source": []
  }
 ],
 "metadata": {
  "language_info": {
   "name": "python"
  }
 },
 "nbformat": 4,
 "nbformat_minor": 2
}
