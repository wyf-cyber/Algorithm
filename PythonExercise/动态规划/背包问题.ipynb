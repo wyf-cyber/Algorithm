{
 "cells": [
  {
   "cell_type": "markdown",
   "metadata": {},
   "source": [
    "> 动态规划（记忆化搜索）：\n",
    "> \n",
    "> 将给定问题划分成若干子问题，直到子问题可以被直接解决。然后把子问题的答保存下来以免重复计算，然后根据子问题反推出原问题解的方法"
   ]
  },
  {
   "cell_type": "markdown",
   "metadata": {},
   "source": [
    "## 背包问题\n",
    "**目录：**\n",
    "1. 0-1背包问题\n",
    "2. 多重背包问题\n",
    "3. 多重背包问题（二进制优化）"
   ]
  },
  {
   "cell_type": "markdown",
   "metadata": {},
   "source": [
    "### 0-1背包问题\n",
    "问题描述：\n",
    "> 给定一系列物品，每一个物品都有一个重量 w 和一个价值 v，现有一个容量为C的背包，要求装填以后背包中所有物品的价值之和最大，求此时装填物品的组合方式。\n",
    "\n",
    "问题要点：\n",
    "- 每一个物品都有一个价值和重量\n",
    "- 每一个物品只有被选中和不被选中两种状态\n",
    "- 不能重复选取同一个物品\n",
    "- 组合中所有物品的总重量应当小于等于容量C\n",
    "- 组合中所有物品的总价值应当尽可能地大"
   ]
  },
  {
   "cell_type": "code",
   "execution_count": null,
   "metadata": {},
   "outputs": [],
   "source": []
  }
 ],
 "metadata": {
  "language_info": {
   "name": "python"
  }
 },
 "nbformat": 4,
 "nbformat_minor": 2
}
