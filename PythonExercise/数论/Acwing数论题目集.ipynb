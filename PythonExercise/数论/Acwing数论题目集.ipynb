{
 "cells": [
  {
   "cell_type": "markdown",
   "metadata": {},
   "source": [
    "# 一、求最大公因素 & 最小公倍数"
   ]
  },
  {
   "cell_type": "markdown",
   "metadata": {},
   "source": [
    "### 例题：等差数列\n",
    "> Problem One: [1246.等差数列](https://www.acwing.com/problem/content/1248/)\n",
    "\n",
    "**题目描述：**\n",
    "> 数学老师给小明出了一道等差数列求和的题目。但是粗心的小明忘记了一部分的数列，只记得其中 N 个整数。现在给出这 N 个整数，小明想知道包含这 N 个整数的最短的等差数列有几项？\n",
    "\n",
    "**输入:**\n",
    "> 输入的第一行包含一个整数 N。第二行包含 N 个整数 A1,A2,⋅⋅⋅,AN(注意 A1∼AN 并不一定是按等差数列中的顺序给出)\n",
    "\n",
    "**输出:**\n",
    "> 输出一个整数表示答案。\n",
    "\n",
    "解题思路：\n"
   ]
  },
  {
   "cell_type": "code",
   "execution_count": 1,
   "metadata": {},
   "outputs": [],
   "source": [
    "# 求解两个数的最大公因数\n",
    "def gcd(m, n)->int:\n",
    "    while m != n:\n",
    "        if m > n:\n",
    "            m = m - n\n",
    "        else:\n",
    "            n = n - m\n",
    "    return m\n",
    "\n",
    "# 求解多个数的最大公因数\n",
    "def multi_gcd(nums:list[int])->int:\n",
    "    n = len(nums)\n",
    "    if n == 1:\n",
    "        return nums[0]\n",
    "    elif n == 2:\n",
    "        return gcd(nums[0], nums[1])\n",
    "    else:\n",
    "        return gcd(multi_gcd(nums[:nums//2]), multi_gcd(nums[nums//2:]))\n",
    "\n",
    "n = int(input())\n",
    "nums = [int(i) for i in input().split()]\n",
    "nums = sorted(nums)\n",
    "# 求出新等差数列首尾项之间的差\n",
    "dist = nums[n-1] - nums[0]\n",
    "# 求出新等差数列的最大公差（给定元素的差的最大公因数）\n",
    "# 给定数字序列的最小差不一定就是等差数列的差，因为不同项在原等差数列中不一定有相等或成倍数的间距\n",
    "l = [nums[i] - nums[i-1] for i in range(1, n)]\n",
    "d = multi_gcd(l)\n",
    "if d != 0:\n",
    "    print(dist//d + 1)\n",
    "else:\n",
    "    # 如果公差为0，说明等差数列元素均相等，原数列已经是等差数列了\n",
    "    print(n)"
   ]
  }
 ],
 "metadata": {
  "kernelspec": {
   "display_name": "Python 3",
   "language": "python",
   "name": "python3"
  },
  "language_info": {
   "codemirror_mode": {
    "name": "ipython",
    "version": 3
   },
   "file_extension": ".py",
   "mimetype": "text/x-python",
   "name": "python",
   "nbconvert_exporter": "python",
   "pygments_lexer": "ipython3",
   "version": "3.12.0"
  }
 },
 "nbformat": 4,
 "nbformat_minor": 2
}
